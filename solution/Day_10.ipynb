{
  "nbformat": 4,
  "nbformat_minor": 0,
  "metadata": {
    "colab": {
      "name": "Day_10.ipynb",
      "provenance": []
    },
    "kernelspec": {
      "name": "python3",
      "display_name": "Python 3"
    },
    "language_info": {
      "name": "python"
    }
  },
  "cells": [
    {
      "cell_type": "markdown",
      "source": [
        "Iteration and Sorting Dataset"
      ],
      "metadata": {
        "id": "dQ08oeGBMTfz"
      }
    },
    {
      "cell_type": "code",
      "execution_count": 7,
      "metadata": {
        "id": "MiRoNoRPMQik"
      },
      "outputs": [],
      "source": [
        "import pandas as pd\n",
        "import seaborn as sb\n",
        "import numpy as np"
      ]
    },
    {
      "cell_type": "markdown",
      "source": [
        "Iteration"
      ],
      "metadata": {
        "id": "bWhDTV-1E7p2"
      }
    },
    {
      "cell_type": "code",
      "source": [
        "#1. Write a Pandas program to iterate through titanic DataFrame available in seaborn\n",
        "titanic= sb.load_dataset('titanic')\n",
        "#print(type(titanic))\n",
        "\n",
        "head_5= titanic.head(5)\n",
        "for row_index, row in head_5.iterrows():\n",
        "  print(row_index)\n",
        "  print(row)"
      ],
      "metadata": {
        "colab": {
          "base_uri": "https://localhost:8080/"
        },
        "id": "eu0xQQCAMcGZ",
        "outputId": "da6920e2-cf04-49cc-e2a5-cc29d61d5afc"
      },
      "execution_count": 8,
      "outputs": [
        {
          "output_type": "stream",
          "name": "stdout",
          "text": [
            "0\n",
            "survived                 0\n",
            "pclass                   3\n",
            "sex                   male\n",
            "age                     22\n",
            "sibsp                    1\n",
            "parch                    0\n",
            "fare                  7.25\n",
            "embarked                 S\n",
            "class                Third\n",
            "who                    man\n",
            "adult_male            True\n",
            "deck                   NaN\n",
            "embark_town    Southampton\n",
            "alive                   no\n",
            "alone                False\n",
            "Name: 0, dtype: object\n",
            "1\n",
            "survived               1\n",
            "pclass                 1\n",
            "sex               female\n",
            "age                   38\n",
            "sibsp                  1\n",
            "parch                  0\n",
            "fare             71.2833\n",
            "embarked               C\n",
            "class              First\n",
            "who                woman\n",
            "adult_male         False\n",
            "deck                   C\n",
            "embark_town    Cherbourg\n",
            "alive                yes\n",
            "alone              False\n",
            "Name: 1, dtype: object\n",
            "2\n",
            "survived                 1\n",
            "pclass                   3\n",
            "sex                 female\n",
            "age                     26\n",
            "sibsp                    0\n",
            "parch                    0\n",
            "fare                 7.925\n",
            "embarked                 S\n",
            "class                Third\n",
            "who                  woman\n",
            "adult_male           False\n",
            "deck                   NaN\n",
            "embark_town    Southampton\n",
            "alive                  yes\n",
            "alone                 True\n",
            "Name: 2, dtype: object\n",
            "3\n",
            "survived                 1\n",
            "pclass                   1\n",
            "sex                 female\n",
            "age                     35\n",
            "sibsp                    1\n",
            "parch                    0\n",
            "fare                  53.1\n",
            "embarked                 S\n",
            "class                First\n",
            "who                  woman\n",
            "adult_male           False\n",
            "deck                     C\n",
            "embark_town    Southampton\n",
            "alive                  yes\n",
            "alone                False\n",
            "Name: 3, dtype: object\n",
            "4\n",
            "survived                 0\n",
            "pclass                   3\n",
            "sex                   male\n",
            "age                     35\n",
            "sibsp                    0\n",
            "parch                    0\n",
            "fare                  8.05\n",
            "embarked                 S\n",
            "class                Third\n",
            "who                    man\n",
            "adult_male            True\n",
            "deck                   NaN\n",
            "embark_town    Southampton\n",
            "alive                   no\n",
            "alone                 True\n",
            "Name: 4, dtype: object\n"
          ]
        }
      ]
    },
    {
      "cell_type": "code",
      "source": [
        "#2. iterate through each column as key and value pair\n",
        "for key,value in head_5.iteritems():\n",
        "  print(key,value)"
      ],
      "metadata": {
        "colab": {
          "base_uri": "https://localhost:8080/"
        },
        "id": "ihc9W6jGEP9n",
        "outputId": "f47f908b-bd01-46f5-d595-657a10e2113d"
      },
      "execution_count": 13,
      "outputs": [
        {
          "output_type": "stream",
          "name": "stdout",
          "text": [
            "survived 0      0\n",
            "1      1\n",
            "2      1\n",
            "3      1\n",
            "4      0\n",
            "      ..\n",
            "886    0\n",
            "887    1\n",
            "888    0\n",
            "889    1\n",
            "890    0\n",
            "Name: survived, Length: 891, dtype: int64\n",
            "pclass 0      3\n",
            "1      1\n",
            "2      3\n",
            "3      1\n",
            "4      3\n",
            "      ..\n",
            "886    2\n",
            "887    1\n",
            "888    3\n",
            "889    1\n",
            "890    3\n",
            "Name: pclass, Length: 891, dtype: int64\n",
            "sex 0        male\n",
            "1      female\n",
            "2      female\n",
            "3      female\n",
            "4        male\n",
            "        ...  \n",
            "886      male\n",
            "887    female\n",
            "888    female\n",
            "889      male\n",
            "890      male\n",
            "Name: sex, Length: 891, dtype: object\n",
            "age 0      22.0\n",
            "1      38.0\n",
            "2      26.0\n",
            "3      35.0\n",
            "4      35.0\n",
            "       ... \n",
            "886    27.0\n",
            "887    19.0\n",
            "888     NaN\n",
            "889    26.0\n",
            "890    32.0\n",
            "Name: age, Length: 891, dtype: float64\n",
            "sibsp 0      1\n",
            "1      1\n",
            "2      0\n",
            "3      1\n",
            "4      0\n",
            "      ..\n",
            "886    0\n",
            "887    0\n",
            "888    1\n",
            "889    0\n",
            "890    0\n",
            "Name: sibsp, Length: 891, dtype: int64\n",
            "parch 0      0\n",
            "1      0\n",
            "2      0\n",
            "3      0\n",
            "4      0\n",
            "      ..\n",
            "886    0\n",
            "887    0\n",
            "888    2\n",
            "889    0\n",
            "890    0\n",
            "Name: parch, Length: 891, dtype: int64\n",
            "fare 0       7.2500\n",
            "1      71.2833\n",
            "2       7.9250\n",
            "3      53.1000\n",
            "4       8.0500\n",
            "        ...   \n",
            "886    13.0000\n",
            "887    30.0000\n",
            "888    23.4500\n",
            "889    30.0000\n",
            "890     7.7500\n",
            "Name: fare, Length: 891, dtype: float64\n",
            "embarked 0      S\n",
            "1      C\n",
            "2      S\n",
            "3      S\n",
            "4      S\n",
            "      ..\n",
            "886    S\n",
            "887    S\n",
            "888    S\n",
            "889    C\n",
            "890    Q\n",
            "Name: embarked, Length: 891, dtype: object\n",
            "class 0       Third\n",
            "1       First\n",
            "2       Third\n",
            "3       First\n",
            "4       Third\n",
            "        ...  \n",
            "886    Second\n",
            "887     First\n",
            "888     Third\n",
            "889     First\n",
            "890     Third\n",
            "Name: class, Length: 891, dtype: category\n",
            "Categories (3, object): ['First', 'Second', 'Third']\n",
            "who 0        man\n",
            "1      woman\n",
            "2      woman\n",
            "3      woman\n",
            "4        man\n",
            "       ...  \n",
            "886      man\n",
            "887    woman\n",
            "888    woman\n",
            "889      man\n",
            "890      man\n",
            "Name: who, Length: 891, dtype: object\n",
            "adult_male 0       True\n",
            "1      False\n",
            "2      False\n",
            "3      False\n",
            "4       True\n",
            "       ...  \n",
            "886     True\n",
            "887    False\n",
            "888    False\n",
            "889     True\n",
            "890     True\n",
            "Name: adult_male, Length: 891, dtype: bool\n",
            "deck 0      NaN\n",
            "1        C\n",
            "2      NaN\n",
            "3        C\n",
            "4      NaN\n",
            "      ... \n",
            "886    NaN\n",
            "887      B\n",
            "888    NaN\n",
            "889      C\n",
            "890    NaN\n",
            "Name: deck, Length: 891, dtype: category\n",
            "Categories (7, object): ['A', 'B', 'C', 'D', 'E', 'F', 'G']\n",
            "embark_town 0      Southampton\n",
            "1        Cherbourg\n",
            "2      Southampton\n",
            "3      Southampton\n",
            "4      Southampton\n",
            "          ...     \n",
            "886    Southampton\n",
            "887    Southampton\n",
            "888    Southampton\n",
            "889      Cherbourg\n",
            "890     Queenstown\n",
            "Name: embark_town, Length: 891, dtype: object\n",
            "alive 0       no\n",
            "1      yes\n",
            "2      yes\n",
            "3      yes\n",
            "4       no\n",
            "      ... \n",
            "886     no\n",
            "887    yes\n",
            "888     no\n",
            "889    yes\n",
            "890     no\n",
            "Name: alive, Length: 891, dtype: object\n",
            "alone 0      False\n",
            "1      False\n",
            "2       True\n",
            "3      False\n",
            "4       True\n",
            "       ...  \n",
            "886     True\n",
            "887     True\n",
            "888    False\n",
            "889     True\n",
            "890     True\n",
            "Name: alone, Length: 891, dtype: bool\n"
          ]
        }
      ]
    },
    {
      "cell_type": "code",
      "source": [
        "#3. iterate through rows as tuples\n",
        "for row in head_5.itertuples():\n",
        "  print(row)"
      ],
      "metadata": {
        "id": "sCYRJLO5EmuS"
      },
      "execution_count": null,
      "outputs": []
    },
    {
      "cell_type": "markdown",
      "source": [
        "Sorting"
      ],
      "metadata": {
        "id": "lEvdcFwLE_7u"
      }
    },
    {
      "cell_type": "code",
      "source": [
        "#4. sort by index\n",
        "print(head_5.sort_index(ascending= True))"
      ],
      "metadata": {
        "colab": {
          "base_uri": "https://localhost:8080/"
        },
        "id": "CNCY44CtE19m",
        "outputId": "901cd6d0-d5d6-4ca6-ee0f-e8b1d8afb216"
      },
      "execution_count": 14,
      "outputs": [
        {
          "output_type": "stream",
          "name": "stdout",
          "text": [
            "   survived  pclass     sex   age  ...  deck  embark_town  alive  alone\n",
            "0         0       3    male  22.0  ...   NaN  Southampton     no  False\n",
            "1         1       1  female  38.0  ...     C    Cherbourg    yes  False\n",
            "2         1       3  female  26.0  ...   NaN  Southampton    yes   True\n",
            "3         1       1  female  35.0  ...     C  Southampton    yes  False\n",
            "4         0       3    male  35.0  ...   NaN  Southampton     no   True\n",
            "\n",
            "[5 rows x 15 columns]\n"
          ]
        }
      ]
    },
    {
      "cell_type": "code",
      "source": [
        "#5. sort by column name\n",
        "print(head_5.sort_index(axis=1))"
      ],
      "metadata": {
        "colab": {
          "base_uri": "https://localhost:8080/"
        },
        "id": "CH9ATQ0bFK-O",
        "outputId": "92b09023-fc6e-49d1-c53c-9b46b8dc8dd1"
      },
      "execution_count": 15,
      "outputs": [
        {
          "output_type": "stream",
          "name": "stdout",
          "text": [
            "   adult_male   age alive  alone  class  ... pclass     sex sibsp  survived    who\n",
            "0        True  22.0    no  False  Third  ...      3    male     1         0    man\n",
            "1       False  38.0   yes  False  First  ...      1  female     1         1  woman\n",
            "2       False  26.0   yes   True  Third  ...      3  female     0         1  woman\n",
            "3       False  35.0   yes  False  First  ...      1  female     1         1  woman\n",
            "4        True  35.0    no   True  Third  ...      3    male     0         0    man\n",
            "\n",
            "[5 rows x 15 columns]\n"
          ]
        }
      ]
    },
    {
      "cell_type": "code",
      "source": [
        "#6. sort by age column\n",
        "print(head_5.sort_values(by= ['age'],ascending= True))"
      ],
      "metadata": {
        "colab": {
          "base_uri": "https://localhost:8080/"
        },
        "id": "jgR4MSJ7FVKN",
        "outputId": "95d76514-d877-44ad-924c-30ae5d00d1ce"
      },
      "execution_count": 16,
      "outputs": [
        {
          "output_type": "stream",
          "name": "stdout",
          "text": [
            "   survived  pclass     sex   age  ...  deck  embark_town  alive  alone\n",
            "0         0       3    male  22.0  ...   NaN  Southampton     no  False\n",
            "2         1       3  female  26.0  ...   NaN  Southampton    yes   True\n",
            "3         1       1  female  35.0  ...     C  Southampton    yes  False\n",
            "4         0       3    male  35.0  ...   NaN  Southampton     no   True\n",
            "1         1       1  female  38.0  ...     C    Cherbourg    yes  False\n",
            "\n",
            "[5 rows x 15 columns]\n"
          ]
        }
      ]
    },
    {
      "cell_type": "code",
      "source": [
        "#7. Write a Pandas program to sort the data frame first by 'name' in descending order, then by 'score' in ascending order\n",
        "exam_data  = pd.DataFrame(\n",
        "    {'name': ['Anastasia', 'Dima', 'Katherine', 'James', 'Emily', 'Michael', 'Matthew', 'Laura', 'Kevin', 'Jonas'],\n",
        "        'score': [12.5, 9, 16.5, np.nan, 9, 20, 14.5, np.nan, 8, 19],\n",
        "        'attempts': [1, 3, 2, 3, 2, 3, 1, 1, 2, 1],\n",
        "        'qualify': ['yes', 'no', 'yes', 'no', 'no', 'yes', 'yes', 'no', 'no', 'yes']}\n",
        ")\n",
        "\n",
        "print('Original Dataframe')\n",
        "print(exam_data)"
      ],
      "metadata": {
        "id": "LhM-_7r1M0vg",
        "colab": {
          "base_uri": "https://localhost:8080/"
        },
        "outputId": "59033674-247b-4b98-d3eb-80975006d141"
      },
      "execution_count": 9,
      "outputs": [
        {
          "output_type": "stream",
          "name": "stdout",
          "text": [
            "Original Dataframe\n",
            "        name  score  attempts qualify\n",
            "0  Anastasia   12.5         1     yes\n",
            "1       Dima    9.0         3      no\n",
            "2  Katherine   16.5         2     yes\n",
            "3      James    NaN         3      no\n",
            "4      Emily    9.0         2      no\n",
            "5    Michael   20.0         3     yes\n",
            "6    Matthew   14.5         1     yes\n",
            "7      Laura    NaN         1      no\n",
            "8      Kevin    8.0         2      no\n",
            "9      Jonas   19.0         1     yes\n"
          ]
        }
      ]
    },
    {
      "cell_type": "code",
      "source": [
        "sort_name= exam_data.sort_values(by=['name'], ascending= [False])\n",
        "print('Dataframe on sorting in descending order by name')\n",
        "print(sort_name)"
      ],
      "metadata": {
        "colab": {
          "base_uri": "https://localhost:8080/"
        },
        "id": "Wj8IgS9x-ED1",
        "outputId": "3a0af7cb-d468-4424-c452-2d5d9fc8b0b3"
      },
      "execution_count": 10,
      "outputs": [
        {
          "output_type": "stream",
          "name": "stdout",
          "text": [
            "Dataframe on sorting in descending order by name\n",
            "        name  score  attempts qualify\n",
            "5    Michael   20.0         3     yes\n",
            "6    Matthew   14.5         1     yes\n",
            "7      Laura    NaN         1      no\n",
            "8      Kevin    8.0         2      no\n",
            "2  Katherine   16.5         2     yes\n",
            "9      Jonas   19.0         1     yes\n",
            "3      James    NaN         3      no\n",
            "4      Emily    9.0         2      no\n",
            "1       Dima    9.0         3      no\n",
            "0  Anastasia   12.5         1     yes\n"
          ]
        }
      ]
    },
    {
      "cell_type": "code",
      "source": [
        "sort_score= exam_data.sort_values(by=['score'], ascending= [True])\n",
        "print('Dataframe on sorting in ascending order by score')\n",
        "print(sort_score)"
      ],
      "metadata": {
        "colab": {
          "base_uri": "https://localhost:8080/"
        },
        "id": "N95lFSLn-D3Q",
        "outputId": "b3bc4297-c31d-49a6-d5c4-3bec6e0dbf73"
      },
      "execution_count": 11,
      "outputs": [
        {
          "output_type": "stream",
          "name": "stdout",
          "text": [
            "Dataframe on sorting in ascending order by score\n",
            "        name  score  attempts qualify\n",
            "8      Kevin    8.0         2      no\n",
            "1       Dima    9.0         3      no\n",
            "4      Emily    9.0         2      no\n",
            "0  Anastasia   12.5         1     yes\n",
            "6    Matthew   14.5         1     yes\n",
            "2  Katherine   16.5         2     yes\n",
            "9      Jonas   19.0         1     yes\n",
            "5    Michael   20.0         3     yes\n",
            "3      James    NaN         3      no\n",
            "7      Laura    NaN         1      no\n"
          ]
        }
      ]
    },
    {
      "cell_type": "code",
      "source": [
        "exam_data= exam_data.sort_values(by=['name','score'], ascending= [False,True])\n",
        "print('Dataframe on sorting in descending order by name and then score in ascending order')\n",
        "print(exam_data)"
      ],
      "metadata": {
        "colab": {
          "base_uri": "https://localhost:8080/"
        },
        "id": "qQZZCO44WpOZ",
        "outputId": "f0c0f066-88ab-4a23-88db-bd63c8d9637a"
      },
      "execution_count": 12,
      "outputs": [
        {
          "output_type": "stream",
          "name": "stdout",
          "text": [
            "Dataframe on sorting in descending order by name and then score in ascending order\n",
            "        name  score  attempts qualify\n",
            "5    Michael   20.0         3     yes\n",
            "6    Matthew   14.5         1     yes\n",
            "7      Laura    NaN         1      no\n",
            "8      Kevin    8.0         2      no\n",
            "2  Katherine   16.5         2     yes\n",
            "9      Jonas   19.0         1     yes\n",
            "3      James    NaN         3      no\n",
            "4      Emily    9.0         2      no\n",
            "1       Dima    9.0         3      no\n",
            "0  Anastasia   12.5         1     yes\n"
          ]
        }
      ]
    },
    {
      "cell_type": "code",
      "source": [
        "#8. use quick sort \n",
        "print(exam_data.sort_values(by=['score'], ascending= [True],kind='quicksort'))"
      ],
      "metadata": {
        "colab": {
          "base_uri": "https://localhost:8080/"
        },
        "id": "l2E2-VUJWnD7",
        "outputId": "2c505a5e-d21c-42d8-e878-22443b3c6073"
      },
      "execution_count": 17,
      "outputs": [
        {
          "output_type": "stream",
          "name": "stdout",
          "text": [
            "        name  score  attempts qualify\n",
            "8      Kevin    8.0         2      no\n",
            "4      Emily    9.0         2      no\n",
            "1       Dima    9.0         3      no\n",
            "0  Anastasia   12.5         1     yes\n",
            "6    Matthew   14.5         1     yes\n",
            "2  Katherine   16.5         2     yes\n",
            "9      Jonas   19.0         1     yes\n",
            "5    Michael   20.0         3     yes\n",
            "7      Laura    NaN         1      no\n",
            "3      James    NaN         3      no\n"
          ]
        }
      ]
    },
    {
      "cell_type": "code",
      "source": [
        "#9. use tips dataset and sort by index in descending order\n",
        "tips= sb.load_dataset('tips')\n",
        "print(tips.head())\n",
        "\n",
        "tips= tips.sort_index(ascending=False)\n",
        "print(tips.head())"
      ],
      "metadata": {
        "id": "4ahxpmlkW-dm",
        "colab": {
          "base_uri": "https://localhost:8080/"
        },
        "outputId": "3f4639bc-c046-4a4b-c35f-b0329e3fa0d0"
      },
      "execution_count": 18,
      "outputs": [
        {
          "output_type": "stream",
          "name": "stdout",
          "text": [
            "   total_bill   tip     sex smoker  day    time  size\n",
            "0       16.99  1.01  Female     No  Sun  Dinner     2\n",
            "1       10.34  1.66    Male     No  Sun  Dinner     3\n",
            "2       21.01  3.50    Male     No  Sun  Dinner     3\n",
            "3       23.68  3.31    Male     No  Sun  Dinner     2\n",
            "4       24.59  3.61  Female     No  Sun  Dinner     4\n",
            "     total_bill   tip     sex smoker   day    time  size\n",
            "243       18.78  3.00  Female     No  Thur  Dinner     2\n",
            "242       17.82  1.75    Male     No   Sat  Dinner     2\n",
            "241       22.67  2.00    Male    Yes   Sat  Dinner     2\n",
            "240       27.18  2.00  Female    Yes   Sat  Dinner     2\n",
            "239       29.03  5.92    Male     No   Sat  Dinner     3\n"
          ]
        }
      ]
    },
    {
      "cell_type": "code",
      "source": [
        "#10. sort tips dataset by total_bill in ascending order\n",
        "sorted_tips= tips.sort_values(by=['total_bill'], ascending= True)\n",
        "print(sorted_tips.head())"
      ],
      "metadata": {
        "colab": {
          "base_uri": "https://localhost:8080/"
        },
        "id": "mQ1ySttSGXy-",
        "outputId": "eeb91ccb-f28e-4d85-a1af-80041efe3a85"
      },
      "execution_count": 19,
      "outputs": [
        {
          "output_type": "stream",
          "name": "stdout",
          "text": [
            "     total_bill   tip     sex smoker   day    time  size\n",
            "67         3.07  1.00  Female    Yes   Sat  Dinner     1\n",
            "92         5.75  1.00  Female    Yes   Fri  Dinner     2\n",
            "172        7.25  5.15    Male    Yes   Sun  Dinner     2\n",
            "111        7.25  1.00  Female     No   Sat  Dinner     1\n",
            "149        7.51  2.00    Male     No  Thur   Lunch     2\n"
          ]
        }
      ]
    }
  ]
}