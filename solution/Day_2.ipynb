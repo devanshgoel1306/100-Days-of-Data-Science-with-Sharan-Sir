{
  "nbformat": 4,
  "nbformat_minor": 0,
  "metadata": {
    "colab": {
      "name": "Day_2.ipynb",
      "provenance": []
    },
    "kernelspec": {
      "name": "python3",
      "display_name": "Python 3"
    },
    "language_info": {
      "name": "python"
    }
  },
  "cells": [
    {
      "cell_type": "markdown",
      "source": [
        "Variables in Python"
      ],
      "metadata": {
        "id": "NMCXLlpncDGT"
      }
    },
    {
      "cell_type": "code",
      "metadata": {
        "colab": {
          "base_uri": "https://localhost:8080/"
        },
        "id": "VR4WxKWoNyp4",
        "outputId": "3fa10191-5e9b-4c5a-8b30-58834ae091a2"
      },
      "source": [
        "#unpack a list\n",
        "#can also be applied to other data types such as tuple.\n",
        "\n",
        "sports= ('basketball', 'badmintion', 'cricket')\n",
        "s1, s2, s3= sports\n",
        "\n",
        "print(s1,s2,s3)"
      ],
      "execution_count": 4,
      "outputs": [
        {
          "output_type": "stream",
          "name": "stdout",
          "text": [
            "basketball badmintion cricket\n"
          ]
        }
      ]
    },
    {
      "cell_type": "code",
      "metadata": {
        "id": "D1TqctkAN9lE",
        "colab": {
          "base_uri": "https://localhost:8080/"
        },
        "outputId": "7109e55a-61f5-47cd-c276-2e40091dcc5a"
      },
      "source": [
        "#assiging one value to multiple variables\n",
        "rose= blood= jacket= 'red'\n",
        "print(rose, blood, jacket)"
      ],
      "execution_count": 5,
      "outputs": [
        {
          "output_type": "stream",
          "name": "stdout",
          "text": [
            "red red red\n"
          ]
        }
      ]
    },
    {
      "cell_type": "code",
      "source": [
        "#making a variable global declared inside a function\n",
        "def learn():\n",
        "  global x\n",
        "  x= \"I am learing Data Science\"\n",
        "\n",
        "learn()\n",
        "print(x)\n"
      ],
      "metadata": {
        "colab": {
          "base_uri": "https://localhost:8080/"
        },
        "id": "E31hLxL6c4mg",
        "outputId": "69941a25-1727-41de-a79b-25527ec04689"
      },
      "execution_count": 7,
      "outputs": [
        {
          "output_type": "stream",
          "name": "stdout",
          "text": [
            "I am learing Data Science\n"
          ]
        }
      ]
    },
    {
      "cell_type": "code",
      "source": [
        "#variable declared outside the function is global by default\n",
        "#to change the value of global variable inside a function we can use global keyword\n",
        "\n",
        "x= \"I am in love with data science\"\n",
        "\n",
        "def learn():\n",
        "  global x\n",
        "  x= \"I am learing Data Science\"\n",
        "\n",
        "learn()\n",
        "print(x)"
      ],
      "metadata": {
        "colab": {
          "base_uri": "https://localhost:8080/"
        },
        "id": "Olc2si-Ve05l",
        "outputId": "088f1dbf-95d5-4a70-b5ee-8a70569506b6"
      },
      "execution_count": 8,
      "outputs": [
        {
          "output_type": "stream",
          "name": "stdout",
          "text": [
            "I am learing Data Science\n"
          ]
        }
      ]
    },
    {
      "cell_type": "markdown",
      "source": [
        "String Data Type"
      ],
      "metadata": {
        "id": "gb60kiOPgyac"
      }
    },
    {
      "cell_type": "code",
      "source": [
        "#looping through a string\n",
        "\n",
        "x= 'hello'\n",
        "\n",
        "for char in x:\n",
        "  print(char, end=\"\")"
      ],
      "metadata": {
        "colab": {
          "base_uri": "https://localhost:8080/"
        },
        "id": "f8PitG18fNbe",
        "outputId": "9b9dd033-d233-4ae9-d52a-30022d1a8780"
      },
      "execution_count": 9,
      "outputs": [
        {
          "output_type": "stream",
          "name": "stdout",
          "text": [
            "hello"
          ]
        }
      ]
    },
    {
      "cell_type": "code",
      "source": [
        "#check string\n",
        "x= \"hello\"\n",
        "y= \"Hi, I am Devansh.\"\n",
        "z= \"hello, sumit\"\n",
        "\n",
        "print(x in y)\n",
        "print(x in z)\n",
        "print(x not in y)"
      ],
      "metadata": {
        "colab": {
          "base_uri": "https://localhost:8080/"
        },
        "id": "Z8FMhP9thknr",
        "outputId": "a04a48d1-c917-45bc-e01f-8e4ab9c5ec65"
      },
      "execution_count": 11,
      "outputs": [
        {
          "output_type": "stream",
          "name": "stdout",
          "text": [
            "False\n",
            "True\n",
            "True\n"
          ]
        }
      ]
    },
    {
      "cell_type": "code",
      "source": [
        "#negative indexing\n",
        "x= \"Data Science \"\n",
        "print(x[-5:-3])"
      ],
      "metadata": {
        "colab": {
          "base_uri": "https://localhost:8080/"
        },
        "id": "39iQzgzCh0gI",
        "outputId": "c4f1eb63-a044-4332-f236-9e3e28094144"
      },
      "execution_count": 12,
      "outputs": [
        {
          "output_type": "stream",
          "name": "stdout",
          "text": [
            "en\n"
          ]
        }
      ]
    },
    {
      "cell_type": "code",
      "source": [
        "#inbuilt- functions for string data type\n",
        "x= \" data science \"\n",
        "\n",
        "#strip removes space from beginning or end\n",
        "print(x.upper(), x.lower())\n",
        "print(x.strip())\n",
        "\n",
        "#replace a char in string \n",
        "print(x.replace('a','A'))\n",
        "\n",
        "#split the string according to given separator\n",
        "print(x.split(' '))"
      ],
      "metadata": {
        "colab": {
          "base_uri": "https://localhost:8080/"
        },
        "id": "44pEg7Qdiae6",
        "outputId": "fb167a9a-a025-492d-e874-3d5972f8f769"
      },
      "execution_count": 17,
      "outputs": [
        {
          "output_type": "stream",
          "name": "stdout",
          "text": [
            " DATA SCIENCE   data science \n",
            "data science\n",
            " dAtA science \n",
            "['', 'data', 'science', '']\n"
          ]
        }
      ]
    },
    {
      "cell_type": "code",
      "source": [
        "#escape character in a string\n",
        "x= \"\\\"Knowledge is love and light and vision.\\\" by Helen Keller\"\n",
        "print(x)"
      ],
      "metadata": {
        "colab": {
          "base_uri": "https://localhost:8080/"
        },
        "id": "hIiWi7jxiszA",
        "outputId": "2d192255-c1bc-4357-9be6-a9a33aea0b8a"
      },
      "execution_count": 19,
      "outputs": [
        {
          "output_type": "stream",
          "name": "stdout",
          "text": [
            "\"Knowledge is love and light and vision.\" by Helen Keller\n"
          ]
        }
      ]
    },
    {
      "cell_type": "code",
      "source": [
        "#string methods\n",
        "print(x.count('o'))"
      ],
      "metadata": {
        "colab": {
          "base_uri": "https://localhost:8080/"
        },
        "id": "y9x3ejomkExC",
        "outputId": "75a6424e-5ee2-4d66-cef3-ffa9c9240396"
      },
      "execution_count": 25,
      "outputs": [
        {
          "output_type": "stream",
          "name": "stdout",
          "text": [
            "3\n"
          ]
        }
      ]
    },
    {
      "cell_type": "code",
      "source": [
        ""
      ],
      "metadata": {
        "id": "R2rStJv8kapV"
      },
      "execution_count": null,
      "outputs": []
    }
  ]
}