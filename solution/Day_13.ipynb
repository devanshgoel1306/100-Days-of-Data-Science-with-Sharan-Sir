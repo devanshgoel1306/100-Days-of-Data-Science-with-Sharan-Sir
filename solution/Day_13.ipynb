{
  "nbformat": 4,
  "nbformat_minor": 0,
  "metadata": {
    "colab": {
      "name": "Day_13.ipynb",
      "provenance": []
    },
    "kernelspec": {
      "name": "python3",
      "display_name": "Python 3"
    },
    "language_info": {
      "name": "python"
    }
  },
  "cells": [
    {
      "cell_type": "markdown",
      "source": [
        "Rename and Replace using pandas\n",
        "\n"
      ],
      "metadata": {
        "id": "rgRwEmz5GyeP"
      }
    },
    {
      "cell_type": "code",
      "source": [
        "import pandas as pd\n",
        "import numpy as np\n",
        "import seaborn as sn"
      ],
      "metadata": {
        "id": "oMBrt0pOHR7m"
      },
      "execution_count": 31,
      "outputs": []
    },
    {
      "cell_type": "code",
      "source": [
        "#make table interactive\n",
        "from google.colab import data_table\n",
        "#to enable\n",
        "data_table.enable_dataframe_formatter()\n",
        "#to disable\n",
        "#data_table.disable_dataframe_formatter()"
      ],
      "metadata": {
        "id": "FuCsT-8hW8rn"
      },
      "execution_count": 32,
      "outputs": []
    },
    {
      "cell_type": "code",
      "source": [
        "#get name of datasets in seaborn library\n",
        "#print(sn.get_dataset_names())"
      ],
      "metadata": {
        "id": "vlA3mDnHQIKE"
      },
      "execution_count": 33,
      "outputs": []
    },
    {
      "cell_type": "code",
      "execution_count": 34,
      "metadata": {
        "id": "y_IMJT-1GuNM"
      },
      "outputs": [],
      "source": [
        "#1. Replace None values with column mean value\n",
        "titanic= sn.load_dataset('titanic')\n",
        "#print(titanic.columns)\n",
        "#get columns with numeric values\n",
        "titanic= titanic.select_dtypes(include= np.number)\n",
        "#print(titanic.columns)"
      ]
    },
    {
      "cell_type": "code",
      "source": [
        "#reduce size of dataset to be worked on\n",
        "titanic= titanic[:20]\n",
        "#print(titanic)\n",
        "#count no. of None values in dataset\n",
        "print('No. of null values in dataframe \\n'+str(titanic.isnull().sum()))\n",
        "\n",
        "#replace None values with average value of that column\n",
        "for column in titanic.columns:\n",
        "  titanic[column].fillna(round(titanic[column].mean()), inplace=True)\n",
        "\n",
        "print('No. of null values in dataframe \\n'+str(titanic.isnull().sum()))\n",
        "#print(titanic)"
      ],
      "metadata": {
        "colab": {
          "base_uri": "https://localhost:8080/"
        },
        "id": "0cTNaspoIuNt",
        "outputId": "ce3f57cf-67e4-4406-8b78-0ef03708396d"
      },
      "execution_count": 35,
      "outputs": [
        {
          "output_type": "stream",
          "name": "stdout",
          "text": [
            "No. of null values in dataframe \n",
            "survived    0\n",
            "pclass      0\n",
            "age         3\n",
            "sibsp       0\n",
            "parch       0\n",
            "fare        0\n",
            "dtype: int64\n",
            "No. of null values in dataframe \n",
            "survived    0\n",
            "pclass      0\n",
            "age         0\n",
            "sibsp       0\n",
            "parch       0\n",
            "fare        0\n",
            "dtype: int64\n"
          ]
        }
      ]
    },
    {
      "cell_type": "code",
      "source": [
        "#2. Drop rows with missing values\n",
        "tips= sn.load_dataset('tips')\n",
        "print('Size of tips: '+str(tips.shape))\n",
        "print(tips.isnull().sum())\n",
        "print('Dropping rows with None values')\n",
        "tips.dropna(inplace= True)\n",
        "print('Size of tips: '+str(tips.shape))\n"
      ],
      "metadata": {
        "colab": {
          "base_uri": "https://localhost:8080/"
        },
        "id": "WvEdDCiFJTjE",
        "outputId": "58cf4852-f33d-44f4-fa4a-cdf38b6c79e5"
      },
      "execution_count": 36,
      "outputs": [
        {
          "output_type": "stream",
          "name": "stdout",
          "text": [
            "Size of tips: (244, 7)\n",
            "total_bill    0\n",
            "tip           0\n",
            "sex           0\n",
            "smoker        0\n",
            "day           0\n",
            "time          0\n",
            "size          0\n",
            "dtype: int64\n",
            "Dropping rows with None values\n",
            "Size of tips: (244, 7)\n"
          ]
        }
      ]
    },
    {
      "cell_type": "code",
      "source": [
        "#3. add a prefix to column names\n",
        "new_column= dict()\n",
        "\n",
        "for column in tips.columns:\n",
        "  new_column[column]= column+'_'\n",
        "\n",
        "print('Name of columns\\n' + str(tips.columns))\n",
        "tips= tips.rename(columns= new_column)\n",
        "print('Adding prefix to column name')\n",
        "print('Name of columns\\n' + str(tips.columns))"
      ],
      "metadata": {
        "colab": {
          "base_uri": "https://localhost:8080/"
        },
        "id": "33HC7YyXNDTJ",
        "outputId": "ff711b97-ef7e-4951-bee9-40b510276736"
      },
      "execution_count": 37,
      "outputs": [
        {
          "output_type": "stream",
          "name": "stdout",
          "text": [
            "Name of columns\n",
            "Index(['total_bill', 'tip', 'sex', 'smoker', 'day', 'time', 'size'], dtype='object')\n",
            "Adding prefix to column name\n",
            "Name of columns\n",
            "Index(['total_bill_', 'tip_', 'sex_', 'smoker_', 'day_', 'time_', 'size_'], dtype='object')\n"
          ]
        }
      ]
    },
    {
      "cell_type": "code",
      "source": [
        ""
      ],
      "metadata": {
        "id": "gVASGIzfP4uR"
      },
      "execution_count": 37,
      "outputs": []
    }
  ]
}