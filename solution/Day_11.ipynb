{
  "nbformat": 4,
  "nbformat_minor": 0,
  "metadata": {
    "colab": {
      "name": "Day_11.ipynb",
      "provenance": [],
      "collapsed_sections": []
    },
    "kernelspec": {
      "name": "python3",
      "display_name": "Python 3"
    },
    "language_info": {
      "name": "python"
    }
  },
  "cells": [
    {
      "cell_type": "markdown",
      "source": [
        "Aggregation and Groupby using Pandas( Used while performing exploratory data analysis)"
      ],
      "metadata": {
        "id": "qTcBFIEiH4Ct"
      }
    },
    {
      "cell_type": "code",
      "source": [
        "import pandas as pd\n",
        "import numpy as np"
      ],
      "metadata": {
        "id": "5aGajO_JIEnk"
      },
      "execution_count": 1,
      "outputs": []
    },
    {
      "cell_type": "code",
      "execution_count": 2,
      "metadata": {
        "colab": {
          "base_uri": "https://localhost:8080/"
        },
        "id": "B7nC_x9IHWGe",
        "outputId": "009ee08f-b3ad-478c-9eae-b6e752ef8eb4"
      },
      "outputs": [
        {
          "output_type": "stream",
          "name": "stdout",
          "text": [
            "{'s001': ['s1', 's4'], 's002': ['s2', 's5'], 's003': ['s3'], 's004': ['s6']}\n",
            "Type of groupby object created is <class 'pandas.core.groupby.generic.DataFrameGroupBy'>\n"
          ]
        }
      ],
      "source": [
        "'''\n",
        "1. Write a Pandas program to split the following dataframe into groups based on school code. Also check the type of GroupBy object. Go to the editor\n",
        "Test Data:\n",
        "   school class            name date_Of_Birth   age  height  weight  address\n",
        "S1   s001     V  Alberto Franco     15/05/2002   12    173      35  street1\n",
        "S2   s002     V    Gino Mcneill     17/05/2002   12    192      32  street2\n",
        "S3   s003    VI     Ryan Parkes     16/02/1999   13    186      33  street3\n",
        "S4   s001    VI    Eesha Hinton     25/09/1998   13    167      30  street1\n",
        "S5   s002     V    Gino Mcneill     11/05/2002   14    151      31  street2\n",
        "S6   s004    VI    David Parkes     15/09/1997   12    159      32  street4\n",
        "'''\n",
        "#creating pandas dataframe\n",
        "student_data= pd.DataFrame({\n",
        "    'school': ['s001','s002','s003','s001','s002','s004'],\n",
        "    'class': ['V','V','VI','VI','V','VI'],\n",
        "    'name': ['Alberto', 'Gino', 'Ryan', 'Eesha', 'Gino', 'David'],\n",
        "    'date_of_birth': ['15/05/2002', '17/05/2002', '16/05/1999', '15/05/1998', '11/05/2002', '15/05/1997'],\n",
        "    'age': [12,12,13,13,14,12],\n",
        "    'height': [173, 192, 186, 167, 151, 159],\n",
        "    'weight': [35, 32, 33,30,31,32],\n",
        "    'address': ['street1', 'street2', 'street3', 'street1', 'street2', 'street4']\n",
        "}, index= ['s1','s2','s3','s4','s5','s6'])\n",
        "\n",
        "#print(student_data)\n",
        "#group the data in groups on the basis of school code\n",
        "school_group= student_data.groupby('school')\n",
        "\n",
        "print(school_group.groups)\n",
        "print('Type of groupby object created is ' + str(type(school_group)))"
      ]
    },
    {
      "cell_type": "code",
      "source": [
        "'''\n",
        "2. Write a Pandas program to split the student_data dataframe by school code and get mean, min, and max value of age for each school.\n",
        "'''\n",
        "print(school_group['age'].agg([np.mean,np.min,np.max]))"
      ],
      "metadata": {
        "colab": {
          "base_uri": "https://localhost:8080/"
        },
        "id": "yNhKxA8DKgAX",
        "outputId": "d04f677c-16d3-4a21-dbc3-4d8def329987"
      },
      "execution_count": 3,
      "outputs": [
        {
          "output_type": "stream",
          "name": "stdout",
          "text": [
            "        mean  amin  amax\n",
            "school                  \n",
            "s001    12.5    12    13\n",
            "s002    13.0    12    14\n",
            "s003    13.0    13    13\n",
            "s004    12.0    12    12\n"
          ]
        }
      ]
    },
    {
      "cell_type": "code",
      "source": [
        "#3. Write a Pandas program to split the student_data dataframe into groups based on school code and class.\n",
        "class_group= student_data.groupby('class')\n",
        "print(class_group.groups)"
      ],
      "metadata": {
        "colab": {
          "base_uri": "https://localhost:8080/"
        },
        "id": "rv5UklA3Ldf0",
        "outputId": "7cc148d8-2cb4-4aaa-8c58-a42de500afac"
      },
      "execution_count": 4,
      "outputs": [
        {
          "output_type": "stream",
          "name": "stdout",
          "text": [
            "{'V': ['s1', 's2', 's5'], 'VI': ['s3', 's4', 's6']}\n"
          ]
        }
      ]
    },
    {
      "cell_type": "code",
      "source": [
        "#4. Write a Pandas program to split the following given dataframe into groups based on school code and class grouping as a list. \n",
        "class_list= student_data.groupby('school')['class'].apply(list)\n",
        "print(class_list)"
      ],
      "metadata": {
        "colab": {
          "base_uri": "https://localhost:8080/"
        },
        "id": "RiowFy2iM4uC",
        "outputId": "c7df375d-631b-47a9-dee5-34e23ea94171"
      },
      "execution_count": 5,
      "outputs": [
        {
          "output_type": "stream",
          "name": "stdout",
          "text": [
            "school\n",
            "s001    [V, VI]\n",
            "s002     [V, V]\n",
            "s003       [VI]\n",
            "s004       [VI]\n",
            "Name: class, dtype: object\n"
          ]
        }
      ]
    },
    {
      "cell_type": "code",
      "source": [
        "#5. Write a Pandas program to split the student_data dataframe into groups based on school code and call a specific group with the name of the group.\n",
        "print(school_group.get_group('s001'))"
      ],
      "metadata": {
        "colab": {
          "base_uri": "https://localhost:8080/"
        },
        "id": "-5AQwgzcOUw7",
        "outputId": "96be6073-4c73-4ab6-d386-d6b160972721"
      },
      "execution_count": 6,
      "outputs": [
        {
          "output_type": "stream",
          "name": "stdout",
          "text": [
            "   school class     name date_of_birth  age  height  weight  address\n",
            "s1   s001     V  Alberto    15/05/2002   12     173      35  street1\n",
            "s4   s001    VI    Eesha    15/05/1998   13     167      30  street1\n"
          ]
        }
      ]
    },
    {
      "cell_type": "code",
      "source": [
        "#6.  Write a Pandas program to split a given dataset, group by one column and remove those groups if all the values of a specific columns are not available.\n",
        "class_V_group= class_group.get_group('V')\n",
        "print(class_V_group)"
      ],
      "metadata": {
        "colab": {
          "base_uri": "https://localhost:8080/"
        },
        "id": "VkCxBA6iPsnX",
        "outputId": "8b28e6de-ae41-4f1c-dbda-8a49cc7c52cf"
      },
      "execution_count": 7,
      "outputs": [
        {
          "output_type": "stream",
          "name": "stdout",
          "text": [
            "   school class     name date_of_birth  age  height  weight  address\n",
            "s1   s001     V  Alberto    15/05/2002   12     173      35  street1\n",
            "s2   s002     V     Gino    17/05/2002   12     192      32  street2\n",
            "s5   s002     V     Gino    11/05/2002   14     151      31  street2\n"
          ]
        }
      ]
    },
    {
      "cell_type": "code",
      "source": [
        "#7.  Write a Pandas program to split a given dataset, group by two columns and convert other columns of the dataframe into a dictionary with column header as key.\n",
        "groupby_two= student_data.groupby(['school','class'])\n",
        "#print(groupby_two.groups)\n",
        "#print(groupby_two.get_group(('s001', 'V')))\n",
        "\n",
        "#convert other columns of the dataframe into a dictionary with column header as key\n",
        "#create a dataframe consisting only 'school', 'class' and 'other_column' column\n",
        "modify_data= student_data[['school','class']]\n",
        "#print(modify_data) \n",
        "\n",
        "#create a column with name other_columns and it consists of dictionary of remaining column values\n",
        "other= list()\n",
        "for row in student_data.iterrows():\n",
        "  other_values= dict()\n",
        "  other_values['name']= row[1]['name']\n",
        "  other_values['date_of_birth']= row[1]['date_of_birth']\n",
        "  other_values['age']= row[1]['age']\n",
        "  other_values['height']= row[1]['height']\n",
        "  other_values['weight']= row[1]['weight']\n",
        "  other.append(other_values)\n",
        "\n",
        "#print(other)\n",
        "modify_data['other_column']= other\n",
        "print(modify_data)"
      ],
      "metadata": {
        "colab": {
          "base_uri": "https://localhost:8080/"
        },
        "id": "m_92OME3V70I",
        "outputId": "0f80260a-97bf-426c-8c5e-1edfc6b21e79"
      },
      "execution_count": 17,
      "outputs": [
        {
          "output_type": "stream",
          "name": "stdout",
          "text": [
            "   school class                                       other_column\n",
            "s1   s001     V  {'name': 'Alberto', 'date_of_birth': '15/05/20...\n",
            "s2   s002     V  {'name': 'Gino', 'date_of_birth': '17/05/2002'...\n",
            "s3   s003    VI  {'name': 'Ryan', 'date_of_birth': '16/05/1999'...\n",
            "s4   s001    VI  {'name': 'Eesha', 'date_of_birth': '15/05/1998...\n",
            "s5   s002     V  {'name': 'Gino', 'date_of_birth': '11/05/2002'...\n",
            "s6   s004    VI  {'name': 'David', 'date_of_birth': '15/05/1997...\n"
          ]
        },
        {
          "output_type": "stream",
          "name": "stderr",
          "text": [
            "/usr/local/lib/python3.7/dist-packages/ipykernel_launcher.py:23: SettingWithCopyWarning: \n",
            "A value is trying to be set on a copy of a slice from a DataFrame.\n",
            "Try using .loc[row_indexer,col_indexer] = value instead\n",
            "\n",
            "See the caveats in the documentation: https://pandas.pydata.org/pandas-docs/stable/user_guide/indexing.html#returning-a-view-versus-a-copy\n"
          ]
        }
      ]
    },
    {
      "cell_type": "code",
      "source": [
        "'''8.  Write a Pandas program to split a given dataset using group by on specified column into two labels and ranges. Go to the editor\n",
        "Split the group on 'salesman_id',\n",
        "Ranges:\n",
        "1) (5001...5006)\n",
        "2) (5007..5012)\n",
        "Test Data:\n",
        "    salesman_id  sale_jan\n",
        "0          5001    150.50\n",
        "1          5002    270.65\n",
        "2          5003     65.26\n",
        "3          5004    110.50\n",
        "4          5005    948.50\n",
        "5          5006   2400.60\n",
        "6          5007   1760.00\n",
        "7          5008   2983.43\n",
        "8          5009    480.40\n",
        "9          5010   1250.45\n",
        "10         5011     75.29\n",
        "11         5012   1045.60\n",
        "'''\n",
        "sales_data= pd.DataFrame({\n",
        "    'salesman_id': [5001, 5002, 5003, 5004, 5005, 5006, 5007, 5008, 5009, 5010, 5011, 5012],\n",
        "    'sale_jan': [150.50, 270.65, 65.26, 110.50, 948.5, 2400.6, 1760, 2983.43, 480.4, 1250.45, 75.29, 1045.6]\n",
        "})\n",
        "\n",
        "#print(sales_data)\n",
        "'''for name,group in sales_data.groupby(sales_data['salesman_id']<5007):\n",
        "  print(name,group)'''\n",
        "\n",
        "sales_group2, sales_group1= [x for _, x in sales_data.groupby(sales_data['salesman_id'] < 5007)]\n",
        "print(sales_group1)\n",
        "print(sales_group2)"
      ],
      "metadata": {
        "colab": {
          "base_uri": "https://localhost:8080/"
        },
        "id": "i3BVcjF-QvK-",
        "outputId": "663f536a-20ff-4f79-b048-b9a707a41141"
      },
      "execution_count": 9,
      "outputs": [
        {
          "output_type": "stream",
          "name": "stdout",
          "text": [
            "   salesman_id  sale_jan\n",
            "0         5001    150.50\n",
            "1         5002    270.65\n",
            "2         5003     65.26\n",
            "3         5004    110.50\n",
            "4         5005    948.50\n",
            "5         5006   2400.60\n",
            "    salesman_id  sale_jan\n",
            "6          5007   1760.00\n",
            "7          5008   2983.43\n",
            "8          5009    480.40\n",
            "9          5010   1250.45\n",
            "10         5011     75.29\n",
            "11         5012   1045.60\n"
          ]
        }
      ]
    },
    {
      "cell_type": "code",
      "source": [
        "'''\n",
        "9. Write a Pandas program to split the following dataset using group by on first column and aggregate over multiple lists on second column. Go to the editor\n",
        "Test Data:\n",
        "  student_id         marks\n",
        "0       S001  [88, 89, 90]\n",
        "1       S001  [78, 81, 60]\n",
        "2       S002  [84, 83, 91]\n",
        "3       S002  [84, 88, 91]\n",
        "4       S003  [90, 89, 92]\n",
        "5       S003  [88, 59, 90]\n",
        "'''\n",
        "student_marks= pd.DataFrame({\n",
        "    'student_id': ['S001', 'S001', 'S002', 'S002', 'S003', 'S003'],\n",
        "    'marks': [[88,89,90],[78,81,60],[84, 83, 91], [84, 88, 91], [90, 89, 92], [88, 59, 90]]\n",
        "})\n",
        "\n",
        "#create three columns with name maths, science, english\n",
        "maths=  list()\n",
        "science= list()\n",
        "english= list()\n",
        "\n",
        "for row in student_marks.iterrows():\n",
        "  maths.append(row[1]['marks'][0])\n",
        "  science.append(row[1]['marks'][1])\n",
        "  english.append(row[1]['marks'][2])\n",
        "\n",
        "#print(maths,science,english)\n",
        "#adding columns to the dataframe\n",
        "student_marks['maths']= maths\n",
        "student_marks['science']= science\n",
        "student_marks['english']= english\n",
        "\n",
        "#dropping a column\n",
        "#axis= 1 to specify we want to drop column\n",
        "student_marks= student_marks.drop(['marks'], axis=1)\n",
        "#print(student_marks)\n",
        "\n",
        "#grouby student_id\n",
        "student_id_group= student_marks.groupby('student_id')\n",
        "print(student_id_group[['maths','science','english']].agg([np.mean,np.min,np.max]))"
      ],
      "metadata": {
        "colab": {
          "base_uri": "https://localhost:8080/"
        },
        "id": "Hx6Y7_0OR-vS",
        "outputId": "c171b4d9-636e-4e6a-e852-66d46f3c65f4"
      },
      "execution_count": 10,
      "outputs": [
        {
          "output_type": "stream",
          "name": "stdout",
          "text": [
            "           maths           science           english          \n",
            "            mean amin amax    mean amin amax    mean amin amax\n",
            "student_id                                                    \n",
            "S001          83   78   88    85.0   81   89      75   60   90\n",
            "S002          84   84   84    85.5   83   88      91   91   91\n",
            "S003          89   88   90    74.0   59   89      91   90   92\n"
          ]
        }
      ]
    },
    {
      "cell_type": "code",
      "source": [
        "'''\n",
        "10. Write a Pandas program to split a given dataset, group by one column and apply an aggregate function to few columns and another aggregate \n",
        "function to the rest of the columns of the dataframe.\n",
        "'''\n",
        "\n",
        "df = pd.DataFrame({\n",
        "'salesman_id': [5002,5005,5001,5003,5002,5001,5001,5006,5003,5002,5007,5001],\n",
        "'sale_jan':[150.5, 270.65, 65.26, 110.5, 948.5, 2400.6, 1760, 2983.43, 480.4,  1250.45, 75.29,1045.6],\n",
        "'sale_feb':[250.5, 170.65, 15.26, 110.5, 598.5, 1400.6, 2760, 1983.43, 2480.4, 250.45, 75.29, 3045.6],\n",
        "'sale_mar':[150.5, 270.65, 65.26, 110.5, 948.5, 2400.6, 5760, 1983.43, 2480.4, 250.45, 75.29, 3045.6],\n",
        "'sale_apr':[150.5, 270.65, 95.26, 210.5, 948.5, 2400.6, 760, 1983.43, 2480.4, 250.45, 75.29, 3045.6],\n",
        "'sale_may':[130.5, 270.65, 65.26, 310.5, 948.5, 2400.6, 760, 1983.43, 2480.4, 250.45, 75.29, 3045.6],\n",
        "'sale_jun':[150.5, 270.65, 45.26, 110.5, 948.5, 3400.6, 5760, 983.43, 2480.4, 250.45, 75.29, 3045.6],\n",
        "'sale_jul':[950.5, 270.65, 65.26, 210.5, 948.5, 2400.6, 5760, 983.43, 2480.4, 250.45, 75.29, 3045.6],\n",
        "'sale_aug':[150.5, 70.65,  65.26, 110.5, 948.5, 400.6, 5760, 1983.43, 2480.4, 250.45, 75.29, 3045.6],\n",
        "'sale_sep':[150.5, 270.65, 65.26, 110.5, 948.5, 200.6, 5760, 1983.43, 2480.4, 250.45, 75.29, 3045.6],\n",
        "'sale_oct':[150.5, 270.65, 65.26, 110.5, 948.5, 2400.6, 5760, 1983.43, 2480.4, 250.45, 75.29, 3045.6],\n",
        "'sale_nov':[150.5, 270.65, 95.26, 110.5, 948.5, 2400.6, 5760, 1983.43, 2480.4, 250.45, 75.29, 3045.6], \n",
        "'sale_dec':[150.5, 70.65, 65.26, 110.5, 948.5, 2400.6, 5760, 1983.43, 2480.4, 250.45, 75.29, 3045.6]\n",
        "})\n",
        "#groupby one column\n",
        "salesman_group= df.groupby('salesman_id')\n",
        "#print(salesman_group.groups)\n",
        "\n",
        "group_1= ['sale_jan','sale_feb']\n",
        "group_2= [x for x in df.columns if x not in group_1]\n",
        "print(salesman_group[group_1].agg([np.mean,np.max]))\n",
        "print(salesman_group[group_2].agg([np.mean,np.max]))"
      ],
      "metadata": {
        "id": "qD5O0BXlcqqK",
        "colab": {
          "base_uri": "https://localhost:8080/"
        },
        "outputId": "78d31e8e-adf9-4045-9c0d-5ad9386fe5d1"
      },
      "execution_count": 26,
      "outputs": [
        {
          "output_type": "stream",
          "name": "stdout",
          "text": [
            "             sale_jan              sale_feb         \n",
            "                 mean     amax         mean     amax\n",
            "salesman_id                                         \n",
            "5001         1317.865  2400.60  1805.365000  3045.60\n",
            "5002          783.150  1250.45   366.483333   598.50\n",
            "5003          295.450   480.40  1295.450000  2480.40\n",
            "5005          270.650   270.65   170.650000   170.65\n",
            "5006         2983.430  2983.43  1983.430000  1983.43\n",
            "5007           75.290    75.29    75.290000    75.29\n",
            "            salesman_id           sale_mar              sale_apr           \\\n",
            "                   mean  amax         mean     amax         mean     amax   \n",
            "salesman_id                                                                 \n",
            "5001               5001  5001  2817.865000  5760.00  1575.365000  3045.60   \n",
            "5002               5002  5002   449.816667   948.50   449.816667   948.50   \n",
            "5003               5003  5003  1295.450000  2480.40  1345.450000  2480.40   \n",
            "5005               5005  5005   270.650000   270.65   270.650000   270.65   \n",
            "5006               5006  5006  1983.430000  1983.43  1983.430000  1983.43   \n",
            "5007               5007  5007    75.290000    75.29    75.290000    75.29   \n",
            "\n",
            "             sale_may              sale_jun              sale_jul           \\\n",
            "                 mean     amax         mean     amax         mean     amax   \n",
            "salesman_id                                                                  \n",
            "5001         1567.865  3045.60  3062.865000  5760.00  2817.865000  5760.00   \n",
            "5002          443.150   948.50   449.816667   948.50   716.483333   950.50   \n",
            "5003         1395.450  2480.40  1295.450000  2480.40  1345.450000  2480.40   \n",
            "5005          270.650   270.65   270.650000   270.65   270.650000   270.65   \n",
            "5006         1983.430  1983.43   983.430000   983.43   983.430000   983.43   \n",
            "5007           75.290    75.29    75.290000    75.29    75.290000    75.29   \n",
            "\n",
            "                sale_aug              sale_sep              sale_oct           \\\n",
            "                    mean     amax         mean     amax         mean     amax   \n",
            "salesman_id                                                                     \n",
            "5001         2317.865000  5760.00  2267.865000  5760.00  2817.865000  5760.00   \n",
            "5002          449.816667   948.50   449.816667   948.50   449.816667   948.50   \n",
            "5003         1295.450000  2480.40  1295.450000  2480.40  1295.450000  2480.40   \n",
            "5005           70.650000    70.65   270.650000   270.65   270.650000   270.65   \n",
            "5006         1983.430000  1983.43  1983.430000  1983.43  1983.430000  1983.43   \n",
            "5007           75.290000    75.29    75.290000    75.29    75.290000    75.29   \n",
            "\n",
            "                sale_nov              sale_dec           \n",
            "                    mean     amax         mean     amax  \n",
            "salesman_id                                              \n",
            "5001         2825.365000  5760.00  2817.865000  5760.00  \n",
            "5002          449.816667   948.50   449.816667   948.50  \n",
            "5003         1295.450000  2480.40  1295.450000  2480.40  \n",
            "5005          270.650000   270.65    70.650000    70.65  \n",
            "5006         1983.430000  1983.43  1983.430000  1983.43  \n",
            "5007           75.290000    75.29    75.290000    75.29  \n"
          ]
        }
      ]
    },
    {
      "cell_type": "code",
      "source": [
        ""
      ],
      "metadata": {
        "id": "cOxctKgOWsw8"
      },
      "execution_count": null,
      "outputs": []
    }
  ]
}