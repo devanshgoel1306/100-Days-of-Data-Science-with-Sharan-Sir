{
  "nbformat": 4,
  "nbformat_minor": 0,
  "metadata": {
    "colab": {
      "name": "Day_12.ipynb",
      "provenance": []
    },
    "kernelspec": {
      "name": "python3",
      "display_name": "Python 3"
    },
    "language_info": {
      "name": "python"
    }
  },
  "cells": [
    {
      "cell_type": "markdown",
      "source": [
        "Missing Values and various methods to fill them"
      ],
      "metadata": {
        "id": "gOk1m00QxVzY"
      }
    },
    {
      "cell_type": "code",
      "source": [
        "import pandas as pd\n",
        "import numpy as np"
      ],
      "metadata": {
        "id": "jqyoJZb8x2px"
      },
      "execution_count": null,
      "outputs": []
    },
    {
      "cell_type": "code",
      "execution_count": null,
      "metadata": {
        "colab": {
          "base_uri": "https://localhost:8080/"
        },
        "id": "C3TkFchlYtNs",
        "outputId": "e5a052f5-f338-45b9-b9c9-26395acf97a4"
      },
      "outputs": [
        {
          "output_type": "stream",
          "name": "stdout",
          "text": [
            "    ord_no  purch_amt  ord_date  customer_id  salesman_id\n",
            "0    False      False     False        False        False\n",
            "1     True      False     False        False        False\n",
            "2    False      False      True        False        False\n",
            "3    False      False     False        False         True\n",
            "4     True      False     False        False        False\n",
            "5    False      False     False        False        False\n",
            "6     True      False     False        False        False\n",
            "7    False      False     False        False         True\n",
            "8    False      False     False        False        False\n",
            "9    False      False     False        False        False\n",
            "10    True      False     False        False        False\n",
            "11   False      False     False        False         True\n"
          ]
        }
      ],
      "source": [
        "#1.Write a Pandas program to detect missing values of a given DataFrame. Display True or False.\n",
        "\n",
        "order_data = pd.DataFrame({\n",
        "'ord_no':[70001,np.nan,70002,70004,np.nan,70005,np.nan,70010,70003,70012,np.nan,70013],\n",
        "'purch_amt':[150.5,270.65,65.26,110.5,948.5,2400.6,5760,1983.43,2480.4,250.45, 75.29,3045.6],\n",
        "'ord_date': ['2012-10-05','2012-09-10',np.nan,'2012-08-17','2012-09-10','2012-07-27','2012-09-10','2012-10-10','2012-10-10','2012-06-27','2012-08-17','2012-04-25'],\n",
        "'customer_id':[3002,3001,3001,3003,3002,3001,3001,3004,3003,3002,3001,3001],\n",
        "'salesman_id':[5002,5003,5001,np.nan,5002,5001,5001,np.nan,5003,5002,5003,np.nan]})\n",
        "\n",
        "#print(order_data)\n",
        "print(order_data.isnull())"
      ]
    },
    {
      "cell_type": "code",
      "source": [
        "#2. Write a Pandas program to identify the column(s) of a given DataFrame which have at least one missing value.\n",
        "\n",
        "missing_column= list()\n",
        "for column in order_data.columns:\n",
        "  if True in list(order_data[column].isnull()):\n",
        "    missing_column.append(column)\n",
        "\n",
        "print(missing_column)"
      ],
      "metadata": {
        "colab": {
          "base_uri": "https://localhost:8080/"
        },
        "id": "uhlMQXMDyefp",
        "outputId": "8f4a3fa4-4c5c-492d-937e-bbeb233ad62a"
      },
      "execution_count": null,
      "outputs": [
        {
          "output_type": "stream",
          "name": "stdout",
          "text": [
            "['ord_no', 'ord_date', 'salesman_id']\n"
          ]
        }
      ]
    },
    {
      "cell_type": "code",
      "source": [
        "#3. Write a Pandas program to count the number of missing values in each column of a given DataFrame. \n",
        "for column in missing_column:\n",
        "  print(column)\n",
        "  count_na= 0\n",
        "  for boolean in order_data[column].isnull():\n",
        "    if boolean:\n",
        "      count_na+=1\n",
        "  print(count_na)"
      ],
      "metadata": {
        "colab": {
          "base_uri": "https://localhost:8080/"
        },
        "id": "lIZBj7wvy-36",
        "outputId": "9e07eec1-6207-4d79-ed67-60f355650b73"
      },
      "execution_count": null,
      "outputs": [
        {
          "output_type": "stream",
          "name": "stdout",
          "text": [
            "ord_no\n",
            "4\n",
            "ord_date\n",
            "1\n",
            "salesman_id\n",
            "3\n"
          ]
        }
      ]
    },
    {
      "cell_type": "code",
      "source": [
        "#4.  Write a Pandas program to drop the columns where at least one element is missing in a given DataFrame.\n",
        "from copy import deepcopy\n",
        "drop_column= deepcopy(order_data)\n",
        "\n",
        "for column in missing_column:\n",
        "  del drop_column[column]\n",
        "\n",
        "print(drop_column)\n",
        "#print(order_data)"
      ],
      "metadata": {
        "colab": {
          "base_uri": "https://localhost:8080/"
        },
        "id": "k8e1g_Nyz9MW",
        "outputId": "e634138f-4b17-4a98-fbb3-59ed1c936209"
      },
      "execution_count": null,
      "outputs": [
        {
          "output_type": "stream",
          "name": "stdout",
          "text": [
            "    purch_amt  customer_id\n",
            "0      150.50         3002\n",
            "1      270.65         3001\n",
            "2       65.26         3001\n",
            "3      110.50         3003\n",
            "4      948.50         3002\n",
            "5     2400.60         3001\n",
            "6     5760.00         3001\n",
            "7     1983.43         3004\n",
            "8     2480.40         3003\n",
            "9      250.45         3002\n",
            "10      75.29         3001\n",
            "11    3045.60         3001\n"
          ]
        }
      ]
    },
    {
      "cell_type": "code",
      "source": [
        "#5. Write a Pandas program to drop the rows where at least one element is missing in a given DataFrame.\n",
        "drop_row= deepcopy(order_data)\n",
        "\n",
        "print('Size of dataset before dropping null value rows: '+str(drop_row.shape))\n",
        "drop_row.dropna(inplace= True)\n",
        "print('Size of dataset on dropping null value rows: '+str(drop_row.shape))"
      ],
      "metadata": {
        "colab": {
          "base_uri": "https://localhost:8080/"
        },
        "id": "V3IfaKt02oMu",
        "outputId": "325fb467-63bc-4c88-a0bc-d95c6ea7291e"
      },
      "execution_count": null,
      "outputs": [
        {
          "output_type": "stream",
          "name": "stdout",
          "text": [
            "Size of dataset before dropping null value rows: (12, 5)\n",
            "Size of dataset on dropping null value rows: (4, 5)\n"
          ]
        }
      ]
    },
    {
      "cell_type": "code",
      "source": [
        "#6. Write a Pandas program to drop the rows where all elements are missing in a given DataFrame.\n",
        "orders_data = pd.DataFrame({\n",
        "'ord_no':[np.nan,np.nan,70002,70004,np.nan,70005,np.nan,70010,70003,70012,np.nan,70013],\n",
        "'purch_amt':[np.nan,270.65,65.26,110.5,948.5,2400.6,5760,1983.43,2480.4,250.45, 75.29,3045.6],\n",
        "'ord_date': [np.nan,'2012-09-10',np.nan,'2012-08-17','2012-09-10','2012-07-27','2012-09-10','2012-10-10','2012-10-10','2012-06-27','2012-08-17','2012-04-25'],\n",
        "'customer_id':[np.nan,3001,3001,3003,3002,3001,3001,3004,3003,3002,3001,3001]})\n",
        "\n",
        "drop_index= list()\n",
        "#print(orders_data)\n",
        "for i in range(len(orders_data.index)):\n",
        "  if orders_data.iloc[i].isnull().sum() == len(orders_data.columns):\n",
        "    drop_index.append(i)\n",
        "\n",
        "orders_data.drop(drop_index, inplace=True)\n",
        "#print(orders_data)\n",
        "orders_data= orders_data.reset_index()\n",
        "print(orders_data)\n",
        "del orders_data['index']\n",
        "print(orders_data)"
      ],
      "metadata": {
        "id": "J5_3bB2s3uIJ",
        "colab": {
          "base_uri": "https://localhost:8080/"
        },
        "outputId": "64770291-e37c-429f-d112-83056600dac4"
      },
      "execution_count": null,
      "outputs": [
        {
          "output_type": "stream",
          "name": "stdout",
          "text": [
            "    index   ord_no  purch_amt    ord_date  customer_id\n",
            "0       1      NaN     270.65  2012-09-10       3001.0\n",
            "1       2  70002.0      65.26         NaN       3001.0\n",
            "2       3  70004.0     110.50  2012-08-17       3003.0\n",
            "3       4      NaN     948.50  2012-09-10       3002.0\n",
            "4       5  70005.0    2400.60  2012-07-27       3001.0\n",
            "5       6      NaN    5760.00  2012-09-10       3001.0\n",
            "6       7  70010.0    1983.43  2012-10-10       3004.0\n",
            "7       8  70003.0    2480.40  2012-10-10       3003.0\n",
            "8       9  70012.0     250.45  2012-06-27       3002.0\n",
            "9      10      NaN      75.29  2012-08-17       3001.0\n",
            "10     11  70013.0    3045.60  2012-04-25       3001.0\n",
            "     ord_no  purch_amt    ord_date  customer_id\n",
            "0       NaN     270.65  2012-09-10       3001.0\n",
            "1   70002.0      65.26         NaN       3001.0\n",
            "2   70004.0     110.50  2012-08-17       3003.0\n",
            "3       NaN     948.50  2012-09-10       3002.0\n",
            "4   70005.0    2400.60  2012-07-27       3001.0\n",
            "5       NaN    5760.00  2012-09-10       3001.0\n",
            "6   70010.0    1983.43  2012-10-10       3004.0\n",
            "7   70003.0    2480.40  2012-10-10       3003.0\n",
            "8   70012.0     250.45  2012-06-27       3002.0\n",
            "9       NaN      75.29  2012-08-17       3001.0\n",
            "10  70013.0    3045.60  2012-04-25       3001.0\n"
          ]
        }
      ]
    },
    {
      "cell_type": "code",
      "source": [
        "#7. Write a Pandas program to keep the rows with at least 2 NaN values in a given DataFrame\n",
        "drop_index= list()\n",
        "#print(orders_data)\n",
        "for i in range(len(orders_data.index)):\n",
        "  if orders_data.iloc[i].isnull().sum() > 1:\n",
        "    drop_index.append(i)\n",
        "\n",
        "print('No. of rows with atleast 2 NaN value: ' + str(len(drop_index)))\n",
        "orders_data.drop(drop_index, inplace=True)\n",
        "#print(orders_data)\n",
        "orders_data= orders_data.reset_index()\n",
        "print(orders_data)\n",
        "del orders_data['index']\n",
        "print(orders_data)"
      ],
      "metadata": {
        "colab": {
          "base_uri": "https://localhost:8080/"
        },
        "id": "euxPUz585Yy4",
        "outputId": "83afd285-c0fb-46cc-bd3d-997da74ea79a"
      },
      "execution_count": null,
      "outputs": [
        {
          "output_type": "stream",
          "name": "stdout",
          "text": [
            "No. of rows with atleast 2 NaN value: 0\n",
            "    index   ord_no  purch_amt    ord_date  customer_id\n",
            "0       0      NaN     270.65  2012-09-10       3001.0\n",
            "1       1  70002.0      65.26         NaN       3001.0\n",
            "2       2  70004.0     110.50  2012-08-17       3003.0\n",
            "3       3      NaN     948.50  2012-09-10       3002.0\n",
            "4       4  70005.0    2400.60  2012-07-27       3001.0\n",
            "5       5      NaN    5760.00  2012-09-10       3001.0\n",
            "6       6  70010.0    1983.43  2012-10-10       3004.0\n",
            "7       7  70003.0    2480.40  2012-10-10       3003.0\n",
            "8       8  70012.0     250.45  2012-06-27       3002.0\n",
            "9       9      NaN      75.29  2012-08-17       3001.0\n",
            "10     10  70013.0    3045.60  2012-04-25       3001.0\n",
            "     ord_no  purch_amt    ord_date  customer_id\n",
            "0       NaN     270.65  2012-09-10       3001.0\n",
            "1   70002.0      65.26         NaN       3001.0\n",
            "2   70004.0     110.50  2012-08-17       3003.0\n",
            "3       NaN     948.50  2012-09-10       3002.0\n",
            "4   70005.0    2400.60  2012-07-27       3001.0\n",
            "5       NaN    5760.00  2012-09-10       3001.0\n",
            "6   70010.0    1983.43  2012-10-10       3004.0\n",
            "7   70003.0    2480.40  2012-10-10       3003.0\n",
            "8   70012.0     250.45  2012-06-27       3002.0\n",
            "9       NaN      75.29  2012-08-17       3001.0\n",
            "10  70013.0    3045.60  2012-04-25       3001.0\n"
          ]
        }
      ]
    },
    {
      "cell_type": "code",
      "source": [
        "#8. Write a Pandas program to drop those rows from a given DataFrame in which specific columns have missing values.\n",
        "#if customer_id and order_no are not present in a row then that data is useless\n",
        "order = pd.DataFrame({\n",
        "'ord_no':[np.nan,np.nan,70002,np.nan,np.nan,70005,np.nan,70010,70003,70012,np.nan,np.nan],\n",
        "'purch_amt':[np.nan,270.65,65.26,np.nan,948.5,2400.6,5760,1983.43,2480.4,250.45, 75.29,np.nan],\n",
        "'ord_date': [np.nan,'2012-09-10',np.nan,np.nan,'2012-09-10','2012-07-27','2012-09-10','2012-10-10','2012-10-10','2012-06-27','2012-08-17',np.nan],\n",
        "'customer_id':[np.nan,3001,3001,np.nan,3002,3001,3001,3004,3003,3002,3001,np.nan]})\n",
        "\n",
        "#drop rows\n",
        "order_= deepcopy(order)\n",
        "print('Size of dataset containing missing values for customer_id and order_no ' + str(order.shape))\n",
        "print()\n",
        "order_.dropna(subset= ['customer_id','ord_no'], inplace= True)\n",
        "\n",
        "print('Size of dataset not containing missing values for customer_id and order_no' + str(order_.shape))"
      ],
      "metadata": {
        "colab": {
          "base_uri": "https://localhost:8080/"
        },
        "id": "Q_oU6y_F6Bjd",
        "outputId": "0b49caa9-550b-4dac-b0a7-90d71ad684f5"
      },
      "execution_count": 62,
      "outputs": [
        {
          "output_type": "stream",
          "name": "stdout",
          "text": [
            "Size of dataset containing missing values for customer_id and order_no (12, 4)\n",
            "\n",
            "Size of dataset not containing missing values for customer_id and order_no(5, 4)\n"
          ]
        }
      ]
    },
    {
      "cell_type": "code",
      "source": [
        "#9. Write a Pandas program to calculate the total number of missing values in a DataFrame.\n",
        "order.isna().sum()"
      ],
      "metadata": {
        "id": "krUw2-Ms8qml",
        "colab": {
          "base_uri": "https://localhost:8080/"
        },
        "outputId": "48ebc909-0e28-4e19-dacd-1c271ee482d4"
      },
      "execution_count": 63,
      "outputs": [
        {
          "output_type": "execute_result",
          "data": {
            "text/plain": [
              "ord_no         7\n",
              "purch_amt      3\n",
              "ord_date       4\n",
              "customer_id    3\n",
              "dtype: int64"
            ]
          },
          "metadata": {},
          "execution_count": 63
        }
      ]
    },
    {
      "cell_type": "code",
      "source": [
        "#10. Write a Pandas program to replace NaNs with a single constant value in specified columns in a DataFrame.\n",
        "print(order)\n",
        "\n",
        "order['purch_amt'].fillna(100, inplace=True)\n",
        "\n",
        "print(order)"
      ],
      "metadata": {
        "colab": {
          "base_uri": "https://localhost:8080/"
        },
        "id": "kxqZNnAoKKwc",
        "outputId": "62084cf1-b541-4308-915a-73d86ef8f87d"
      },
      "execution_count": 65,
      "outputs": [
        {
          "output_type": "stream",
          "name": "stdout",
          "text": [
            "     ord_no  purch_amt    ord_date  customer_id\n",
            "0       NaN        NaN         NaN          NaN\n",
            "1       NaN     270.65  2012-09-10       3001.0\n",
            "2   70002.0      65.26         NaN       3001.0\n",
            "3       NaN        NaN         NaN          NaN\n",
            "4       NaN     948.50  2012-09-10       3002.0\n",
            "5   70005.0    2400.60  2012-07-27       3001.0\n",
            "6       NaN    5760.00  2012-09-10       3001.0\n",
            "7   70010.0    1983.43  2012-10-10       3004.0\n",
            "8   70003.0    2480.40  2012-10-10       3003.0\n",
            "9   70012.0     250.45  2012-06-27       3002.0\n",
            "10      NaN      75.29  2012-08-17       3001.0\n",
            "11      NaN        NaN         NaN          NaN\n",
            "     ord_no  purch_amt    ord_date  customer_id\n",
            "0       NaN     100.00         NaN          NaN\n",
            "1       NaN     270.65  2012-09-10       3001.0\n",
            "2   70002.0      65.26         NaN       3001.0\n",
            "3       NaN     100.00         NaN          NaN\n",
            "4       NaN     948.50  2012-09-10       3002.0\n",
            "5   70005.0    2400.60  2012-07-27       3001.0\n",
            "6       NaN    5760.00  2012-09-10       3001.0\n",
            "7   70010.0    1983.43  2012-10-10       3004.0\n",
            "8   70003.0    2480.40  2012-10-10       3003.0\n",
            "9   70012.0     250.45  2012-06-27       3002.0\n",
            "10      NaN      75.29  2012-08-17       3001.0\n",
            "11      NaN     100.00         NaN          NaN\n"
          ]
        }
      ]
    },
    {
      "cell_type": "code",
      "source": [
        "#11.  Write a Pandas program to replace NaNs with the value from the previous row or the next row in a given DataFrame.\n",
        "print('Using pad method to fill missing values')\n",
        "print(order['customer_id'].fillna(method= 'pad'))\n",
        "\n",
        "print('Using backfill method to fill missing values')\n",
        "print(order['customer_id'].fillna(method= 'backfill'))"
      ],
      "metadata": {
        "colab": {
          "base_uri": "https://localhost:8080/"
        },
        "id": "Vg_08aAWK1E9",
        "outputId": "be5a7d9e-c958-4663-f022-2970cb3f7020"
      },
      "execution_count": 66,
      "outputs": [
        {
          "output_type": "stream",
          "name": "stdout",
          "text": [
            "Using pad method to fill missing values\n",
            "0        NaN\n",
            "1     3001.0\n",
            "2     3001.0\n",
            "3     3001.0\n",
            "4     3002.0\n",
            "5     3001.0\n",
            "6     3001.0\n",
            "7     3004.0\n",
            "8     3003.0\n",
            "9     3002.0\n",
            "10    3001.0\n",
            "11    3001.0\n",
            "Name: customer_id, dtype: float64\n",
            "Using backfill method to fill missing values\n",
            "0     3001.0\n",
            "1     3001.0\n",
            "2     3001.0\n",
            "3     3002.0\n",
            "4     3002.0\n",
            "5     3001.0\n",
            "6     3001.0\n",
            "7     3004.0\n",
            "8     3003.0\n",
            "9     3002.0\n",
            "10    3001.0\n",
            "11       NaN\n",
            "Name: customer_id, dtype: float64\n"
          ]
        }
      ]
    },
    {
      "cell_type": "code",
      "source": [
        "#12. Write a Pandas program to replace NaNs with median or mean of the specified columns in a given DataFrame.\n",
        "customer_df = pd.DataFrame({\n",
        "'ord_no':[70001,np.nan,70002,70004,np.nan,70005,np.nan,70010,70003,70012,np.nan,70013],\n",
        "'purch_amt':[150.5,np.nan,65.26,110.5,948.5,np.nan,5760,1983.43,np.nan,250.45, 75.29,3045.6],\n",
        "'sale_amt':[10.5,20.65,np.nan,11.5,98.5,np.nan,57,19.43,np.nan,25.45, 75.29,35.6],\n",
        "'ord_date': ['2012-10-05','2012-09-10',np.nan,'2012-08-17','2012-09-10','2012-07-27','2012-09-10','2012-10-10','2012-10-10','2012-06-27','2012-08-17','2012-04-25'],\n",
        "'customer_id':[3002,3001,3001,3003,3002,3001,3001,3004,3003,3002,3001,3001],\n",
        "'salesman_id':[5002,5003,5001,np.nan,5002,5001,5001,np.nan,5003,5002,5003,np.nan]})\n",
        "\n",
        "print(customer_df['purch_amt'].fillna(customer_df['purch_amt'].mean()))"
      ],
      "metadata": {
        "colab": {
          "base_uri": "https://localhost:8080/"
        },
        "id": "7wF0EQd4LZvN",
        "outputId": "b72d680c-65ec-4b6c-ce0b-8bfcccecaf0f"
      },
      "execution_count": 67,
      "outputs": [
        {
          "output_type": "stream",
          "name": "stdout",
          "text": [
            "0      150.500000\n",
            "1     1376.614444\n",
            "2       65.260000\n",
            "3      110.500000\n",
            "4      948.500000\n",
            "5     1376.614444\n",
            "6     5760.000000\n",
            "7     1983.430000\n",
            "8     1376.614444\n",
            "9      250.450000\n",
            "10      75.290000\n",
            "11    3045.600000\n",
            "Name: purch_amt, dtype: float64\n"
          ]
        }
      ]
    },
    {
      "cell_type": "code",
      "source": [
        ""
      ],
      "metadata": {
        "id": "zVp9t9boL6iU"
      },
      "execution_count": null,
      "outputs": []
    }
  ]
}
